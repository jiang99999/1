{
 "cells": [
  {
   "cell_type": "code",
   "execution_count": 1,
   "id": "4da19f0b",
   "metadata": {},
   "outputs": [],
   "source": [
    "import pickle\n",
    "import scipy.io\n",
    "import numpy as np\n",
    "# 读取pkl文件\n"
   ]
  },
  {
   "cell_type": "code",
   "execution_count": 2,
   "id": "fc1314e9",
   "metadata": {},
   "outputs": [
    {
     "name": "stdout",
     "output_type": "stream",
     "text": [
      "7347\n"
     ]
    }
   ],
   "source": [
    "with open('F:/jupyter/semantic/The-implementations-of-DeepSC/data/txt/test_data.pkl', 'rb') as f:\n",
    "    data = pickle.load(f)\n",
    "    \n",
    "print(len(data))"
   ]
  },
  {
   "cell_type": "code",
   "execution_count": 4,
   "id": "9a467b6b",
   "metadata": {},
   "outputs": [],
   "source": [
    "data=scipy.io.loadmat('./output/SNR=18.mat')\n",
    "data = data['msgOutBytes']"
   ]
  },
  {
   "cell_type": "code",
   "execution_count": 5,
   "id": "65161575",
   "metadata": {},
   "outputs": [
    {
     "name": "stdout",
     "output_type": "stream",
     "text": [
      "[[1 0 1 ... 0 0 0]\n",
      " [0 0 0 ... 0 0 0]\n",
      " [1 0 0 ... 0 0 0]\n",
      " ...\n",
      " [1 0 1 ... 0 0 0]\n",
      " [1 0 0 ... 0 1 0]\n",
      " [0 0 0 ... 0 0 0]]\n"
     ]
    }
   ],
   "source": [
    "print(data)"
   ]
  },
  {
   "cell_type": "code",
   "execution_count": 6,
   "id": "58d9efae",
   "metadata": {},
   "outputs": [
    {
     "name": "stdout",
     "output_type": "stream",
     "text": [
      "(1012, 8)\n"
     ]
    }
   ],
   "source": [
    "\n",
    "dimen = np.array(data).shape\n",
    "print(dimen)\n"
   ]
  },
  {
   "cell_type": "code",
   "execution_count": 7,
   "id": "3a6fbb3a",
   "metadata": {},
   "outputs": [
    {
     "name": "stdout",
     "output_type": "stream",
     "text": [
      "[1 0 1 1 0 0 0 0] [0 0 0 1 1 0 0 0] [1 0 0 0 0 0 0 0]\n"
     ]
    }
   ],
   "source": [
    "print(data[0],data[1],data[2])"
   ]
  },
  {
   "cell_type": "code",
   "execution_count": null,
   "id": "6d82657c",
   "metadata": {},
   "outputs": [],
   "source": []
  }
 ],
 "metadata": {
  "kernelspec": {
   "display_name": "Python [conda env:py37]",
   "language": "python",
   "name": "conda-env-py37-py"
  },
  "language_info": {
   "codemirror_mode": {
    "name": "ipython",
    "version": 3
   },
   "file_extension": ".py",
   "mimetype": "text/x-python",
   "name": "python",
   "nbconvert_exporter": "python",
   "pygments_lexer": "ipython3",
   "version": "3.7.16"
  }
 },
 "nbformat": 4,
 "nbformat_minor": 5
}
