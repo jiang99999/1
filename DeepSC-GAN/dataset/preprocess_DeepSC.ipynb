{
 "cells": [
  {
   "cell_type": "code",
   "execution_count": 1,
   "id": "5a02fc39",
   "metadata": {},
   "outputs": [],
   "source": [
    "# !usr/bin/env python\n",
    "# -*- coding:utf-8 _*-\n",
    "\"\"\"\n",
    "@Author: Huiqiang Xie\n",
    "@File: text_preprocess.py\n",
    "@Time: 2021/3/31 22:14\n",
    "\"\"\"\n",
    "# !/usr/bin/env python3\n",
    "# -*- coding: utf-8 -*-\n",
    "\"\"\"\n",
    "Created on Thu Jan 30 16:44:08 2020\n",
    "\n",
    "@author: hx301\n",
    "\"\"\"\n",
    "import unicodedata\n",
    "import re\n",
    "from w3lib.html import remove_tags\n",
    "import pickle\n",
    "import argparse\n",
    "import os\n",
    "import json\n",
    "from tqdm import tqdm\n",
    "\n",
    "parser = argparse.ArgumentParser()\n",
    "parser.add_argument('--input-data-dir', default='F:/jupyter/semantic/Attack-DeepSC/data/txt/DeepSC.pkl', type=str)\n",
    "parser.add_argument('--input-data-flickr-dir', default='F:/jupyter/semantic/Attack-DeepSC/data/txt/flick/flick30k.pkl', type=str)\n",
    "parser.add_argument('--output-train-dir', default='txt/train_data.pkl', type=str)\n",
    "parser.add_argument('--output-test-dir', default='txt/test_data.pkl', type=str)\n",
    "parser.add_argument('--output-vocab', default='F:/jupyter/semantic/Attack-DeepSC/data/txt/combined_vocab.json', type=str)\n",
    "\n",
    "SPECIAL_TOKENS = {\n",
    "  '<PAD>': 0,\n",
    "  '<START>': 1,\n",
    "  '<END>': 2,\n",
    "  '<UNK>': 3,\n",
    "}\n",
    "\n",
    "def unicode_to_ascii(s):\n",
    "    return ''.join(c for c in unicodedata.normalize('NFD', s)\n",
    "                   if unicodedata.category(c) != 'Mn')\n",
    "\n",
    "def normalize_string(s):\n",
    "    # normalize unicode characters\n",
    "    s = unicode_to_ascii(s)\n",
    "    # remove the XML-tags\n",
    "    s = remove_tags(s)\n",
    "    # add white space before !.?\n",
    "    s = re.sub(r'([!.?])', r' \\1', s)\n",
    "    s = re.sub(r'[^a-zA-Z.!?]+', r' ', s)\n",
    "    s = re.sub(r'\\s+', r' ', s)\n",
    "    # change to lower letter\n",
    "    s = s.lower()\n",
    "    return s\n",
    "\n",
    "def cutted_data(cleaned, MIN_LENGTH=4, MAX_LENGTH=30):\n",
    "    cutted_lines = list()\n",
    "    for line in cleaned:\n",
    "        length = len(line.split())\n",
    "        if length > MIN_LENGTH and length < MAX_LENGTH:\n",
    "            line = [word for word in line.split()]\n",
    "            cutted_lines.append(' '.join(line))\n",
    "    return cutted_lines\n",
    "\n",
    "def save_clean_sentences(sentence, save_path):\n",
    "    pickle.dump(sentence, open(save_path, 'wb'))\n",
    "    print('Saved: %s' % save_path)\n",
    "\n",
    "def process(text_path):\n",
    "    fop = open(text_path, 'r', encoding='utf8')\n",
    "    raw_data = fop.read()\n",
    "    sentences = raw_data.strip().split('\\n')\n",
    "    raw_data_input = [normalize_string(data) for data in sentences]\n",
    "    raw_data_input = cutted_data(raw_data_input)\n",
    "    fop.close()\n",
    "\n",
    "    return raw_data_input\n",
    "\n",
    "\n",
    "def tokenize(s, delim=' ',  add_start_token=True, add_end_token=True,\n",
    "             punct_to_keep=None, punct_to_remove=None):\n",
    "    \"\"\"\n",
    "    Tokenize a sequence, converting a string s into a list of (string) tokens by\n",
    "    splitting on the specified delimiter. Optionally keep or remove certain\n",
    "    punctuation marks and add start and end tokens.\n",
    "    \"\"\"\n",
    "    if punct_to_keep is not None:\n",
    "        for p in punct_to_keep:\n",
    "            s = s.replace(p, '%s%s' % (delim, p))\n",
    "\n",
    "    if punct_to_remove is not None:\n",
    "        for p in punct_to_remove:\n",
    "            s = s.replace(p, '')\n",
    "\n",
    "    tokens = s.split(delim)\n",
    "    if add_start_token:\n",
    "        tokens.insert(0, '<START>')\n",
    "    if add_end_token:\n",
    "        tokens.append('<END>')\n",
    "    return tokens\n",
    "\n",
    "\n",
    "def build_vocab(sequences, token_to_idx = { }, min_token_count=1, delim=' ',\n",
    "                punct_to_keep=None, punct_to_remove=None, ):\n",
    "    token_to_count = {}\n",
    "\n",
    "    for seq in sequences:\n",
    "      seq_tokens = tokenize(seq, delim=delim, punct_to_keep=punct_to_keep,\n",
    "                      punct_to_remove=punct_to_remove,\n",
    "                      add_start_token=False, add_end_token=False)\n",
    "      for token in seq_tokens:\n",
    "        if token not in token_to_count:\n",
    "          token_to_count[token] = 0\n",
    "        token_to_count[token] += 1\n",
    "\n",
    "    for token, count in sorted(token_to_count.items()):\n",
    "      if count >= min_token_count:\n",
    "        token_to_idx[token] = len(token_to_idx)\n",
    "\n",
    "    return token_to_idx\n",
    "\n",
    "\n",
    "def encode(seq_tokens, token_to_idx, allow_unk=False):\n",
    "    seq_idx = []\n",
    "    for token in seq_tokens:\n",
    "      if token not in token_to_idx:\n",
    "        if allow_unk:\n",
    "          token = '<UNK>'\n",
    "        else:\n",
    "          raise KeyError('Token \"%s\" not in vocab' % token)\n",
    "      seq_idx.append(token_to_idx[token])\n",
    "    return seq_idx\n",
    "\n",
    "\n",
    "def decode(seq_idx, idx_to_token, delim=None, stop_at_end=True):\n",
    "    tokens = []\n",
    "    for idx in seq_idx:\n",
    "      tokens.append(idx_to_token[idx])\n",
    "      if stop_at_end and tokens[-1] == '<END>':\n",
    "        break\n",
    "    if delim is None:\n",
    "      return tokens\n",
    "    else:\n",
    "      return delim.join(tokens)\n"
   ]
  },
  {
   "cell_type": "code",
   "execution_count": 2,
   "id": "16e46b3a",
   "metadata": {},
   "outputs": [
    {
     "name": "stdout",
     "output_type": "stream",
     "text": [
      "F:/jupyter/semantic/Attack-DeepSC/data/txt/DeepSC.pkl\n",
      "Preprocess Raw Text\n"
     ]
    },
    {
     "name": "stderr",
     "output_type": "stream",
     "text": [
      "100%|██████████████████████████████████████████████████████████████████████| 158915/158915 [00:01<00:00, 141856.13it/s]\n"
     ]
    }
   ],
   "source": [
    "args = parser.parse_known_args()[0]\n",
    "\n",
    "print(args.input_data_dir)\n",
    "sentences = []\n",
    "#预处理\n",
    "print('Preprocess Raw Text')\n",
    "#提取欧洲会议数据集\n",
    "with open(args.input_data_dir, \"rb\") as f:\n",
    "    sentences = pickle.load(f)\n",
    "#提取flickr数据集的内容并处理\n",
    "with open(args.input_data_flickr_dir, \"rb\") as f:\n",
    "    f_sentences = pickle.load(f)    \n",
    "f_s = []\n",
    "for seq in tqdm(f_sentences):\n",
    "    words = tokenize(seq, punct_to_keep=[';', ','], punct_to_remove=['?', '.'])\n",
    "    words = list(filter(lambda x : x != \",\", words))#去掉逗号和空格\n",
    "    words = list(filter(lambda x : x != \"\", words))\n",
    "    dig = False\n",
    "    error_list = []\n",
    "    for i in range(len(words)):\n",
    "        words[i] = words[i].lower()#改小写\n",
    "        \n",
    "    words = words[1:-1]#去掉start和end\n",
    "    for i in range(len(words)):\n",
    "        if not words[i].isidentifier():\n",
    "            error_list.append(words[i])#要改的词存在列表里\n",
    "            dig = True\n",
    "    if dig:\n",
    "        for e in error_list:\n",
    "            words.remove(e)#去掉非字母\n",
    "    ss = ' '.join(words)\n",
    "    f_s.append(ss)\n"
   ]
  },
  {
   "cell_type": "code",
   "execution_count": 3,
   "id": "2547addd",
   "metadata": {},
   "outputs": [
    {
     "name": "stdout",
     "output_type": "stream",
     "text": [
      "257450\n"
     ]
    }
   ],
   "source": [
    "for s in f_s:\n",
    "    sentences.append(s)\n",
    "print(len(sentences))\n"
   ]
  },
  {
   "cell_type": "code",
   "execution_count": 4,
   "id": "df1a31de",
   "metadata": {},
   "outputs": [
    {
     "name": "stdout",
     "output_type": "stream",
     "text": [
      "Number of sentences: 231766\n",
      "Build Vocab\n",
      "Number of words in Vocab: 33163\n"
     ]
    },
    {
     "data": {
      "text/plain": [
       "\"\\nprint('Start encoding txt')\\nresults = []\\ncount_len = []\\nfor seq in tqdm(sentences):\\n    words = tokenize(seq, punct_to_keep=[';', ','], punct_to_remove=['?', '.'])#tokenize令牌化，将句子中加入令牌<>。\\n    tokens = [token_to_idx[word] for word in words]\\n    count_len.append(len(tokens))\\n    results.append(tokens)\\n\\n\\nprint('Writing Data')\\ntrain_data = results[: round(len(results) * 0.9)]\\ntest_data = results[round(len(results) * 0.9):]\\n\\nwith open(args.output_train_dir, 'wb') as f:\\n    pickle.dump(train_data, f)\\nwith open(args.output_test_dir, 'wb') as f:\\n    pickle.dump(test_data, f)\\n\""
      ]
     },
     "execution_count": 4,
     "metadata": {},
     "output_type": "execute_result"
    }
   ],
   "source": [
    "# remove the same sentences\n",
    "\n",
    "a = {}\n",
    "for set in sentences:\n",
    "    if set not in a:\n",
    "        a[set] = 0\n",
    "    a[set] += 1\n",
    "sentences = list(a.keys())\n",
    "print('Number of sentences: {}'.format(len(sentences)))\n",
    "#建立vocab（词表）\n",
    "print('Build Vocab')\n",
    "token_to_idx = build_vocab(\n",
    "    sentences, SPECIAL_TOKENS,\n",
    "    punct_to_keep=[';', ','], punct_to_remove=['?', '.']\n",
    ")\n",
    "\n",
    "vocab = {'token_to_idx': token_to_idx}\n",
    "print('Number of words in Vocab: {}'.format(len(token_to_idx)))\n",
    "\n",
    "# save the vocab\n",
    "if args.output_vocab != '':\n",
    "    with open(args.output_vocab, 'w') as f:\n",
    "        json.dump(vocab, f)\n",
    "\"\"\"\n",
    "print('Start encoding txt')\n",
    "results = []\n",
    "count_len = []\n",
    "for seq in tqdm(sentences):\n",
    "    words = tokenize(seq, punct_to_keep=[';', ','], punct_to_remove=['?', '.'])#tokenize令牌化，将句子中加入令牌<>。\n",
    "    tokens = [token_to_idx[word] for word in words]\n",
    "    count_len.append(len(tokens))\n",
    "    results.append(tokens)\n",
    "\n",
    "\n",
    "print('Writing Data')\n",
    "train_data = results[: round(len(results) * 0.9)]\n",
    "test_data = results[round(len(results) * 0.9):]\n",
    "\n",
    "with open(args.output_train_dir, 'wb') as f:\n",
    "    pickle.dump(train_data, f)\n",
    "with open(args.output_test_dir, 'wb') as f:\n",
    "    pickle.dump(test_data, f)\n",
    "\"\"\""
   ]
  },
  {
   "cell_type": "code",
   "execution_count": 6,
   "id": "8213ca5c",
   "metadata": {},
   "outputs": [
    {
     "name": "stderr",
     "output_type": "stream",
     "text": [
      "100%|████████████████████████████████████████████████████████████████████████████████████████████| 3/3 [00:00<?, ?it/s]"
     ]
    },
    {
     "name": "stdout",
     "output_type": "stream",
     "text": [
      "[1, 19903, 9520, 17299, 838, 13710, 6, 12737, 17412, 18249, 2]\n",
      "[1, 19968, 10626, 640, 9883, 157, 21933, 19903, 15480, 19901, 21715, 9124, 732, 21078, 4, 2]\n",
      "[1, 19895, 22135, 13088, 17861, 9628, 18052, 5902, 18477, 8605, 4, 9993, 10661, 10626, 15969, 9883, 10989, 21933, 19903, 15175, 19968, 9520, 9099, 732, 349, 4, 2]\n"
     ]
    },
    {
     "name": "stderr",
     "output_type": "stream",
     "text": [
      "\n"
     ]
    }
   ],
   "source": [
    "for seq in tqdm(sentences[0:3]):\n",
    "    words = tokenize(seq, punct_to_keep=[';', ','], punct_to_remove=['?', '.'])\n",
    "    tokens = [token_to_idx[word] for word in words]\n",
    "    print(tokens)"
   ]
  },
  {
   "cell_type": "code",
   "execution_count": null,
   "id": "bb0a1d7b",
   "metadata": {},
   "outputs": [],
   "source": []
  }
 ],
 "metadata": {
  "kernelspec": {
   "display_name": "Python [conda env:py37]",
   "language": "python",
   "name": "conda-env-py37-py"
  },
  "language_info": {
   "codemirror_mode": {
    "name": "ipython",
    "version": 3
   },
   "file_extension": ".py",
   "mimetype": "text/x-python",
   "name": "python",
   "nbconvert_exporter": "python",
   "pygments_lexer": "ipython3",
   "version": "3.7.16"
  }
 },
 "nbformat": 4,
 "nbformat_minor": 5
}
